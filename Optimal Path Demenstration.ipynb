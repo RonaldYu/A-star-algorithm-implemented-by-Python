{
 "cells": [
  {
   "cell_type": "code",
   "execution_count": 29,
   "metadata": {
    "ExecuteTime": {
     "end_time": "2019-06-23T18:04:35.032982Z",
     "start_time": "2019-06-23T18:04:35.024003Z"
    }
   },
   "outputs": [],
   "source": [
    "from A_star import *\n",
    "import matplotlib.pyplot as plt\n",
    "import numpy as np"
   ]
  },
  {
   "cell_type": "markdown",
   "metadata": {},
   "source": [
    "# Example 1"
   ]
  },
  {
   "cell_type": "code",
   "execution_count": 41,
   "metadata": {
    "ExecuteTime": {
     "end_time": "2019-06-23T18:05:31.495492Z",
     "start_time": "2019-06-23T18:05:31.487380Z"
    }
   },
   "outputs": [],
   "source": [
    "# setting map\n",
    "walls_position = [(i, j) for i in range(0, 9) for j in [0, 7]]\\\n",
    "+ [(i, j) for i in [0, 8] for j in range(1, 7)]\\\n",
    "+ [(1, 5), (2, 5), (2, 4), (2, 3), (4, 6), (4, 5), (4, 4), (5, 4), (6, 4), (6, 3), (6, 2)]\\\n",
    "+ [(5, 2), (4, 2)]"
   ]
  },
  {
   "cell_type": "code",
   "execution_count": 42,
   "metadata": {
    "ExecuteTime": {
     "end_time": "2019-06-23T18:05:32.053894Z",
     "start_time": "2019-06-23T18:05:32.048232Z"
    }
   },
   "outputs": [],
   "source": [
    "# set start location\n",
    "current_position = (1, 6)\n",
    "# set destination location\n",
    "destination_position = (7, 6)"
   ]
  },
  {
   "cell_type": "markdown",
   "metadata": {},
   "source": [
    "1. Red circle is the start location.\n",
    "2. Red star is the destination location.\n",
    "3. Black pots are walls/obstacles"
   ]
  },
  {
   "cell_type": "code",
   "execution_count": 60,
   "metadata": {
    "ExecuteTime": {
     "end_time": "2019-06-23T18:13:40.561280Z",
     "start_time": "2019-06-23T18:13:40.137302Z"
    }
   },
   "outputs": [
    {
     "data": {
      "image/png": "[encoded data removed]",
      "text/plain": [
       "<Figure size 432x288 with 1 Axes>"
      ]
     },
     "metadata": {},
     "output_type": "display_data"
    }
   ],
   "source": [
    "MAP = np.zeros((9, 8))\n",
    "for i, j in walls_position:\n",
    "    MAP[i, j]=1\n",
    "    \n",
    "plt.figure()\n",
    "for i in range(0, 9):\n",
    "    for j in range(0, 8):\n",
    "        plt.plot([i], [j], color='white', marker='o')\n",
    "        \n",
    "for i, j in walls_position:\n",
    "    plt.plot([i], [j], color='black', marker='o', markersize=3)\n",
    "    \n",
    "plt.plot(current_position[0], current_position[1], color='red', marker='o', markersize=8)\n",
    "plt.plot(destination_position[0], destination_position[1], color='red', marker='*', markersize=12)\n",
    "\n",
    "plt.axis('off');"
   ]
  },
  {
   "cell_type": "code",
   "execution_count": 43,
   "metadata": {
    "ExecuteTime": {
     "end_time": "2019-06-23T18:05:32.977418Z",
     "start_time": "2019-06-23T18:05:32.967176Z"
    }
   },
   "outputs": [],
   "source": [
    " # set current location as the object of Node\n",
    "current_node = Node(current_position)\n",
    "# initialise the open set for A* algorithm\n",
    "open_set = set([current_node])\n",
    "# initialise the closed set for A* algorithm\n",
    "closed_set = set([])\n",
    "# execute A* algorithm to find the closed set\n",
    "closed_set = A_Star(current_node, destination_position, walls_position, open_set, closed_set)"
   ]
  },
  {
   "cell_type": "code",
   "execution_count": 44,
   "metadata": {
    "ExecuteTime": {
     "end_time": "2019-06-23T18:05:33.496046Z",
     "start_time": "2019-06-23T18:05:33.488689Z"
    }
   },
   "outputs": [],
   "source": [
    "# find the node related to the desination position\n",
    "destination_node = [i for i in closed_set if i.node == destination_position][0]\n",
    "\n",
    "# get the optimal path\n",
    "selective_path = [i.node for i in backforward(destination_node, closed_set, [])]"
   ]
  },
  {
   "cell_type": "markdown",
   "metadata": {},
   "source": [
    "Blue crosses are the optimal path found by A star algorithm."
   ]
  },
  {
   "cell_type": "code",
   "execution_count": 58,
   "metadata": {
    "ExecuteTime": {
     "end_time": "2019-06-23T18:10:48.584118Z",
     "start_time": "2019-06-23T18:10:48.075779Z"
    }
   },
   "outputs": [
    {
     "data": {
      "image/png": "[encoded data removed]",
      "text/plain": [
       "<Figure size 432x288 with 1 Axes>"
      ]
     },
     "metadata": {},
     "output_type": "display_data"
    }
   ],
   "source": [
    "MAP = np.zeros((9, 8))\n",
    "for i, j in walls_position:\n",
    "    MAP[i, j]=1\n",
    "    \n",
    "plt.figure()\n",
    "for i in range(0, 9):\n",
    "    for j in range(0, 8):\n",
    "        plt.plot([i], [j], color='white', marker='o')\n",
    "        \n",
    "for i, j in walls_position:\n",
    "    plt.plot([i], [j], color='black', marker='o', markersize=3)\n",
    "\n",
    "for i, j in selective_path:\n",
    "    plt.plot([i], [j], color='blue', marker='x')\n",
    "    \n",
    "plt.plot(current_position[0], current_position[1], color='red', marker='o', markersize=8)\n",
    "plt.plot(destination_position[0], destination_position[1], color='red', marker='*', markersize=12)\n",
    "\n",
    "plt.axis('off');"
   ]
  },
  {
   "cell_type": "markdown",
   "metadata": {
    "ExecuteTime": {
     "end_time": "2019-06-23T18:12:48.751908Z",
     "start_time": "2019-06-23T18:12:48.744164Z"
    }
   },
   "source": [
    "# Example 2"
   ]
  },
  {
   "cell_type": "code",
   "execution_count": 61,
   "metadata": {
    "ExecuteTime": {
     "end_time": "2019-06-23T18:19:15.792635Z",
     "start_time": "2019-06-23T18:19:15.779670Z"
    }
   },
   "outputs": [],
   "source": [
    "# setting map\n",
    "walls_position = [(i, j) for i in range(0, 9) for j in [0, 7]]\\\n",
    "+ [(i, j) for i in [0, 8] for j in range(1, 7)]\\\n",
    "+ [(2, 1), (2, 2), (2, 3)] + [(4, i) for i in [3, 4, 5, 6]]\\\n",
    "+ [(6, i) for i in [1, 2, 3]]"
   ]
  },
  {
   "cell_type": "code",
   "execution_count": 62,
   "metadata": {
    "ExecuteTime": {
     "end_time": "2019-06-23T18:19:16.263406Z",
     "start_time": "2019-06-23T18:19:16.257891Z"
    }
   },
   "outputs": [],
   "source": [
    "# set start location\n",
    "current_position = (1, 1)\n",
    "# set destination location\n",
    "destination_position = (7, 1)"
   ]
  },
  {
   "cell_type": "markdown",
   "metadata": {},
   "source": [
    "1. Red circle is the start location.\n",
    "2. Red star is the destination location.\n",
    "3. Black pots are walls/obstacles"
   ]
  },
  {
   "cell_type": "code",
   "execution_count": 63,
   "metadata": {
    "ExecuteTime": {
     "end_time": "2019-06-23T18:19:22.420130Z",
     "start_time": "2019-06-23T18:19:21.932843Z"
    }
   },
   "outputs": [
    {
     "data": {
      "image/png": "[encoded data removed]",
      "text/plain": [
       "<Figure size 432x288 with 1 Axes>"
      ]
     },
     "metadata": {},
     "output_type": "display_data"
    }
   ],
   "source": [
    "MAP = np.zeros((9, 8))\n",
    "for i, j in walls_position:\n",
    "    MAP[i, j]=1\n",
    "    \n",
    "plt.figure()\n",
    "for i in range(0, 9):\n",
    "    for j in range(0, 8):\n",
    "        plt.plot([i], [j], color='white', marker='o')\n",
    "        \n",
    "for i, j in walls_position:\n",
    "    plt.plot([i], [j], color='black', marker='o', markersize=3)\n",
    "    \n",
    "plt.plot(current_position[0], current_position[1], color='red', marker='o', markersize=8)\n",
    "plt.plot(destination_position[0], destination_position[1], color='red', marker='*', markersize=12)\n",
    "\n",
    "plt.axis('off');"
   ]
  },
  {
   "cell_type": "code",
   "execution_count": 64,
   "metadata": {
    "ExecuteTime": {
     "end_time": "2019-06-23T18:20:26.738434Z",
     "start_time": "2019-06-23T18:20:26.729774Z"
    }
   },
   "outputs": [],
   "source": [
    " # set current location as the object of Node\n",
    "current_node = Node(current_position)\n",
    "# initialise the open set for A* algorithm\n",
    "open_set = set([current_node])\n",
    "# initialise the closed set for A* algorithm\n",
    "closed_set = set([])\n",
    "# execute A* algorithm to find the closed set\n",
    "closed_set = A_Star(current_node, destination_position, walls_position, open_set, closed_set)"
   ]
  },
  {
   "cell_type": "code",
   "execution_count": 65,
   "metadata": {
    "ExecuteTime": {
     "end_time": "2019-06-23T18:20:27.235917Z",
     "start_time": "2019-06-23T18:20:27.227260Z"
    }
   },
   "outputs": [],
   "source": [
    "# find the node related to the desination position\n",
    "destination_node = [i for i in closed_set if i.node == destination_position][0]\n",
    "\n",
    "# get the optimal path\n",
    "selective_path = [i.node for i in backforward(destination_node, closed_set, [])]"
   ]
  },
  {
   "cell_type": "markdown",
   "metadata": {},
   "source": [
    "Blue crosses are the optimal path found by A star algorithm."
   ]
  },
  {
   "cell_type": "code",
   "execution_count": 66,
   "metadata": {
    "ExecuteTime": {
     "end_time": "2019-06-23T18:20:28.837431Z",
     "start_time": "2019-06-23T18:20:28.355327Z"
    }
   },
   "outputs": [
    {
     "data": {
      "image/png": "[encoded data removed]",
      "text/plain": [
       "<Figure size 432x288 with 1 Axes>"
      ]
     },
     "metadata": {},
     "output_type": "display_data"
    }
   ],
   "source": [
    "MAP = np.zeros((9, 8))\n",
    "for i, j in walls_position:\n",
    "    MAP[i, j]=1\n",
    "    \n",
    "plt.figure()\n",
    "for i in range(0, 9):\n",
    "    for j in range(0, 8):\n",
    "        plt.plot([i], [j], color='white', marker='o')\n",
    "        \n",
    "for i, j in walls_position:\n",
    "    plt.plot([i], [j], color='black', marker='o', markersize=3)\n",
    "\n",
    "for i, j in selective_path:\n",
    "    plt.plot([i], [j], color='blue', marker='x')\n",
    "    \n",
    "plt.plot(current_position[0], current_position[1], color='red', marker='o', markersize=8)\n",
    "plt.plot(destination_position[0], destination_position[1], color='red', marker='*', markersize=12)\n",
    "\n",
    "plt.axis('off');"
   ]
  }
 ],
 "metadata": {
  "kernelspec": {
   "display_name": "Python 3",
   "language": "python",
   "name": "python3"
  },
  "language_info": {
   "codemirror_mode": {
    "name": "ipython",
    "version": 3
   },
   "file_extension": ".py",
   "mimetype": "text/x-python",
   "name": "python",
   "nbconvert_exporter": "python",
   "pygments_lexer": "ipython3",
   "version": "3.6.5"
  },
  "toc": {
   "base_numbering": 1,
   "nav_menu": {},
   "number_sections": true,
   "sideBar": true,
   "skip_h1_title": false,
   "title_cell": "Table of Contents",
   "title_sidebar": "Contents",
   "toc_cell": false,
   "toc_position": {},
   "toc_section_display": true,
   "toc_window_display": false
  },
  "varInspector": {
   "cols": {
    "lenName": 16,
    "lenType": 16,
    "lenVar": 40
   },
   "kernels_config": {
    "python": {
     "delete_cmd_postfix": "",
     "delete_cmd_prefix": "del ",
     "library": "var_list.py",
     "varRefreshCmd": "print(var_dic_list())"
    },
    "r": {
     "delete_cmd_postfix": ") ",
     "delete_cmd_prefix": "rm(",
     "library": "var_list.r",
     "varRefreshCmd": "cat(var_dic_list()) "
    }
   },
   "types_to_exclude": [
    "module",
    "function",
    "builtin_function_or_method",
    "instance",
    "_Feature"
   ],
   "window_display": false
  }
 },
 "nbformat": 4,
 "nbformat_minor": 2
}
